{
 "cells": [
  {
   "cell_type": "code",
   "execution_count": 2,
   "metadata": {},
   "outputs": [],
   "source": [
    "import numpy as np\n",
    "import pandas as pd\n",
    "import sklearn\n",
    "import matplotlib.pyplot as plt\n",
    "%matplotlib inline"
   ]
  },
  {
   "cell_type": "code",
   "execution_count": 4,
   "metadata": {},
   "outputs": [
    {
     "data": {
      "text/html": [
       "<div>\n",
       "<style scoped>\n",
       "    .dataframe tbody tr th:only-of-type {\n",
       "        vertical-align: middle;\n",
       "    }\n",
       "\n",
       "    .dataframe tbody tr th {\n",
       "        vertical-align: top;\n",
       "    }\n",
       "\n",
       "    .dataframe thead th {\n",
       "        text-align: right;\n",
       "    }\n",
       "</style>\n",
       "<table border=\"1\" class=\"dataframe\">\n",
       "  <thead>\n",
       "    <tr style=\"text-align: right;\">\n",
       "      <th></th>\n",
       "      <th>age</th>\n",
       "      <th>sex</th>\n",
       "      <th>state</th>\n",
       "      <th>citizen</th>\n",
       "      <th>race</th>\n",
       "      <th>marital</th>\n",
       "      <th>num_in_house</th>\n",
       "      <th>num_child</th>\n",
       "      <th>educ</th>\n",
       "      <th>worker_class</th>\n",
       "      <th>industry</th>\n",
       "      <th>occupation</th>\n",
       "      <th>weekly_hrs</th>\n",
       "      <th>fam_income</th>\n",
       "    </tr>\n",
       "  </thead>\n",
       "  <tbody>\n",
       "    <tr>\n",
       "      <th>0</th>\n",
       "      <td>50</td>\n",
       "      <td>1</td>\n",
       "      <td>16</td>\n",
       "      <td>5</td>\n",
       "      <td>1</td>\n",
       "      <td>1</td>\n",
       "      <td>5</td>\n",
       "      <td>2</td>\n",
       "      <td>35</td>\n",
       "      <td>3</td>\n",
       "      <td>51</td>\n",
       "      <td>22</td>\n",
       "      <td>6</td>\n",
       "      <td>14</td>\n",
       "    </tr>\n",
       "    <tr>\n",
       "      <th>1</th>\n",
       "      <td>27</td>\n",
       "      <td>1</td>\n",
       "      <td>6</td>\n",
       "      <td>1</td>\n",
       "      <td>1</td>\n",
       "      <td>6</td>\n",
       "      <td>4</td>\n",
       "      <td>0</td>\n",
       "      <td>39</td>\n",
       "      <td>3</td>\n",
       "      <td>51</td>\n",
       "      <td>12</td>\n",
       "      <td>6</td>\n",
       "      <td>15</td>\n",
       "    </tr>\n",
       "    <tr>\n",
       "      <th>2</th>\n",
       "      <td>35</td>\n",
       "      <td>2</td>\n",
       "      <td>6</td>\n",
       "      <td>1</td>\n",
       "      <td>2</td>\n",
       "      <td>6</td>\n",
       "      <td>2</td>\n",
       "      <td>1</td>\n",
       "      <td>39</td>\n",
       "      <td>2</td>\n",
       "      <td>51</td>\n",
       "      <td>15</td>\n",
       "      <td>6</td>\n",
       "      <td>9</td>\n",
       "    </tr>\n",
       "    <tr>\n",
       "      <th>3</th>\n",
       "      <td>29</td>\n",
       "      <td>1</td>\n",
       "      <td>51</td>\n",
       "      <td>1</td>\n",
       "      <td>1</td>\n",
       "      <td>6</td>\n",
       "      <td>2</td>\n",
       "      <td>0</td>\n",
       "      <td>39</td>\n",
       "      <td>3</td>\n",
       "      <td>51</td>\n",
       "      <td>21</td>\n",
       "      <td>6</td>\n",
       "      <td>12</td>\n",
       "    </tr>\n",
       "    <tr>\n",
       "      <th>4</th>\n",
       "      <td>57</td>\n",
       "      <td>1</td>\n",
       "      <td>53</td>\n",
       "      <td>1</td>\n",
       "      <td>1</td>\n",
       "      <td>6</td>\n",
       "      <td>5</td>\n",
       "      <td>0</td>\n",
       "      <td>39</td>\n",
       "      <td>3</td>\n",
       "      <td>51</td>\n",
       "      <td>12</td>\n",
       "      <td>6</td>\n",
       "      <td>14</td>\n",
       "    </tr>\n",
       "  </tbody>\n",
       "</table>\n",
       "</div>"
      ],
      "text/plain": [
       "   age  sex  state  citizen  race  marital  num_in_house  num_child  educ  \\\n",
       "0   50    1     16        5     1        1             5          2    35   \n",
       "1   27    1      6        1     1        6             4          0    39   \n",
       "2   35    2      6        1     2        6             2          1    39   \n",
       "3   29    1     51        1     1        6             2          0    39   \n",
       "4   57    1     53        1     1        6             5          0    39   \n",
       "\n",
       "   worker_class  industry  occupation  weekly_hrs  fam_income  \n",
       "0             3        51          22           6          14  \n",
       "1             3        51          12           6          15  \n",
       "2             2        51          15           6           9  \n",
       "3             3        51          21           6          12  \n",
       "4             3        51          12           6          14  "
      ]
     },
     "execution_count": 4,
     "metadata": {},
     "output_type": "execute_result"
    }
   ],
   "source": [
    "data = pd.read_csv(\"../datasets/CPS2016_CSV.csv\", index_col=None)\n",
    "data.columns = ['age', 'sex', 'state', 'citizen', 'race', 'marital',\n",
    "                'num_in_house', 'num_child', 'educ', 'worker_class', 'industry',\n",
    "                'occupation', 'weekly_hrs', 'fam_income']\n",
    "data.head()"
   ]
  },
  {
   "cell_type": "markdown",
   "metadata": {},
   "source": [
    "# Looking at the data\n",
    "\n",
    "The CPS is used to collect data for a variety of other studies that keep the nation informed of the economic and social well-being of its people. This dataset includes 55253 entries representing responses from single-job holding Americans from August 2016."
   ]
  },
  {
   "cell_type": "code",
   "execution_count": 23,
   "metadata": {},
   "outputs": [
    {
     "name": "stdout",
     "output_type": "stream",
     "text": [
      "<class 'pandas.core.frame.DataFrame'>\n",
      "RangeIndex: 55253 entries, 0 to 55252\n",
      "Data columns (total 14 columns):\n",
      "age             55253 non-null int64\n",
      "sex             55253 non-null int64\n",
      "state           55253 non-null int64\n",
      "citizen         55253 non-null int64\n",
      "race            55253 non-null int64\n",
      "marital         55253 non-null int64\n",
      "num_in_house    55253 non-null int64\n",
      "num_child       55253 non-null int64\n",
      "educ            55253 non-null int64\n",
      "worker_class    55253 non-null int64\n",
      "industry        55253 non-null int64\n",
      "occupation      55253 non-null int64\n",
      "weekly_hrs      55253 non-null int64\n",
      "fam_income      55253 non-null int64\n",
      "dtypes: int64(14)\n",
      "memory usage: 5.9 MB\n"
     ]
    }
   ],
   "source": [
    "data.info()"
   ]
  },
  {
   "cell_type": "markdown",
   "metadata": {},
   "source": [
    "# Describing the data\n",
    "\n",
    "This dataset has a mix of numerical and categorical variables. All of the categorical variables are represented as integers which represent different categories. You can see which number represent which categories in the CPS Dataset Description PDF. Some of the numerical data is represented as increasing integers, each which represents a larger range of numbers. For instance, the valid entries for 'fam_income' are:\n",
    "\n",
    "- 1\tLESS THAN 5,000\n",
    "- 2\t5,000 TO 7,499\n",
    "- 3\t7,500 TO 9,999\n",
    "- 4\t10,000 TO 12,499\n",
    "- 5\t12,500 TO 14,999\n",
    "- 6\t15,000 TO 19,999\n",
    "- 7\t20,000 TO 24,999\n",
    "- 8\t25,000 TO 29,999\n",
    "- 9\t30,000 TO 34,999\n",
    "- 10\t35,000 TO 39,999\n",
    "- 11\t40,000 TO 49,999\n",
    "- 12\t50,000 TO 59,999\n",
    "- 13\t60,000 TO 74,999\n",
    "- 14\t75,000 TO 99,999\n",
    "- 15\t100,000 TO 149,999\n",
    "- 16\t150,000 OR MORE\t\t"
   ]
  },
  {
   "cell_type": "markdown",
   "metadata": {},
   "source": [
    "## Please refer to the CPS Dataset Description PDF for a description of each variable and their valid entries. "
   ]
  },
  {
   "cell_type": "markdown",
   "metadata": {},
   "source": [
    "The following variables are strictly numerical:\n",
    "\n",
    "age, num_in_house (number of people living in current household), num_child (number of children <18)\n",
    "\n",
    "The following variables CAN be used numerically, but will be used categorically when using classification methods:\n",
    "\n",
    "educ, weekly_hrs, fam_income\n",
    "\n",
    "- As you can see below, the mean for 'fam_income' Referring to the PDF (or from example above), we can see that 12 represents '50,000 to 59,999' and 13 represents '60,000 to 74,999'. Therefore we can estimate that the average family income from this dataset is between 50,000 to 59,999.\n",
    "\n",
    "- The mean for 'educ' is 40.789. Referring to the PDF, we can see that the integer entries for education reprent the growing levels of education from 31: 'before first grade' to 46: 'doctorage degree'. 40.789 lies between 40: 'some college but no degree' and 41:'associates degree'. This doesn't give us the most accurate representation, but the number representation gives us an estimation as to when level of education someone has achieved.\n",
    "\n",
    "- The mean for 'weekly_hrs' is 3.845. Referring to the PDF, we can see that 3 represents '35-39 hrs' and 4 represents '40 hrs'. Again, we cannot say for sure how many hours exactly someone works a week based off of 3.845, but we can estimate that the average survey responder worked around or just under 40 hours a week. I believe the true average for Americans (found online) is around 38.1 hours per week."
   ]
  },
  {
   "cell_type": "code",
   "execution_count": 25,
   "metadata": {},
   "outputs": [
    {
     "data": {
      "text/html": [
       "<div>\n",
       "<style scoped>\n",
       "    .dataframe tbody tr th:only-of-type {\n",
       "        vertical-align: middle;\n",
       "    }\n",
       "\n",
       "    .dataframe tbody tr th {\n",
       "        vertical-align: top;\n",
       "    }\n",
       "\n",
       "    .dataframe thead th {\n",
       "        text-align: right;\n",
       "    }\n",
       "</style>\n",
       "<table border=\"1\" class=\"dataframe\">\n",
       "  <thead>\n",
       "    <tr style=\"text-align: right;\">\n",
       "      <th></th>\n",
       "      <th>age</th>\n",
       "      <th>sex</th>\n",
       "      <th>state</th>\n",
       "      <th>citizen</th>\n",
       "      <th>race</th>\n",
       "      <th>marital</th>\n",
       "      <th>num_in_house</th>\n",
       "      <th>num_child</th>\n",
       "      <th>educ</th>\n",
       "      <th>worker_class</th>\n",
       "      <th>industry</th>\n",
       "      <th>occupation</th>\n",
       "      <th>weekly_hrs</th>\n",
       "      <th>fam_income</th>\n",
       "    </tr>\n",
       "  </thead>\n",
       "  <tbody>\n",
       "    <tr>\n",
       "      <th>count</th>\n",
       "      <td>55253.000000</td>\n",
       "      <td>55253.000000</td>\n",
       "      <td>55253.000000</td>\n",
       "      <td>55253.000000</td>\n",
       "      <td>55253.000000</td>\n",
       "      <td>55253.000000</td>\n",
       "      <td>55253.000000</td>\n",
       "      <td>55253.000000</td>\n",
       "      <td>55253.000000</td>\n",
       "      <td>55253.000000</td>\n",
       "      <td>55253.000000</td>\n",
       "      <td>55253.000000</td>\n",
       "      <td>55253.000000</td>\n",
       "      <td>55253.000000</td>\n",
       "    </tr>\n",
       "    <tr>\n",
       "      <th>mean</th>\n",
       "      <td>42.655421</td>\n",
       "      <td>1.471739</td>\n",
       "      <td>28.345375</td>\n",
       "      <td>1.534722</td>\n",
       "      <td>1.429081</td>\n",
       "      <td>2.922212</td>\n",
       "      <td>3.074494</td>\n",
       "      <td>0.600999</td>\n",
       "      <td>40.789079</td>\n",
       "      <td>3.811829</td>\n",
       "      <td>30.935316</td>\n",
       "      <td>12.193311</td>\n",
       "      <td>3.845076</td>\n",
       "      <td>12.181311</td>\n",
       "    </tr>\n",
       "    <tr>\n",
       "      <th>std</th>\n",
       "      <td>14.542007</td>\n",
       "      <td>0.499205</td>\n",
       "      <td>16.178664</td>\n",
       "      <td>1.264564</td>\n",
       "      <td>1.304305</td>\n",
       "      <td>2.242702</td>\n",
       "      <td>1.552056</td>\n",
       "      <td>1.015603</td>\n",
       "      <td>2.565940</td>\n",
       "      <td>0.745296</td>\n",
       "      <td>14.492841</td>\n",
       "      <td>6.805350</td>\n",
       "      <td>1.321362</td>\n",
       "      <td>3.495008</td>\n",
       "    </tr>\n",
       "    <tr>\n",
       "      <th>min</th>\n",
       "      <td>15.000000</td>\n",
       "      <td>1.000000</td>\n",
       "      <td>1.000000</td>\n",
       "      <td>1.000000</td>\n",
       "      <td>1.000000</td>\n",
       "      <td>1.000000</td>\n",
       "      <td>1.000000</td>\n",
       "      <td>0.000000</td>\n",
       "      <td>31.000000</td>\n",
       "      <td>1.000000</td>\n",
       "      <td>1.000000</td>\n",
       "      <td>1.000000</td>\n",
       "      <td>1.000000</td>\n",
       "      <td>1.000000</td>\n",
       "    </tr>\n",
       "    <tr>\n",
       "      <th>25%</th>\n",
       "      <td>31.000000</td>\n",
       "      <td>1.000000</td>\n",
       "      <td>13.000000</td>\n",
       "      <td>1.000000</td>\n",
       "      <td>1.000000</td>\n",
       "      <td>1.000000</td>\n",
       "      <td>2.000000</td>\n",
       "      <td>0.000000</td>\n",
       "      <td>39.000000</td>\n",
       "      <td>4.000000</td>\n",
       "      <td>22.000000</td>\n",
       "      <td>7.000000</td>\n",
       "      <td>4.000000</td>\n",
       "      <td>10.000000</td>\n",
       "    </tr>\n",
       "    <tr>\n",
       "      <th>50%</th>\n",
       "      <td>42.000000</td>\n",
       "      <td>1.000000</td>\n",
       "      <td>29.000000</td>\n",
       "      <td>1.000000</td>\n",
       "      <td>1.000000</td>\n",
       "      <td>1.000000</td>\n",
       "      <td>3.000000</td>\n",
       "      <td>0.000000</td>\n",
       "      <td>40.000000</td>\n",
       "      <td>4.000000</td>\n",
       "      <td>36.000000</td>\n",
       "      <td>14.000000</td>\n",
       "      <td>4.000000</td>\n",
       "      <td>13.000000</td>\n",
       "    </tr>\n",
       "    <tr>\n",
       "      <th>75%</th>\n",
       "      <td>54.000000</td>\n",
       "      <td>2.000000</td>\n",
       "      <td>42.000000</td>\n",
       "      <td>1.000000</td>\n",
       "      <td>1.000000</td>\n",
       "      <td>6.000000</td>\n",
       "      <td>4.000000</td>\n",
       "      <td>1.000000</td>\n",
       "      <td>43.000000</td>\n",
       "      <td>4.000000</td>\n",
       "      <td>42.000000</td>\n",
       "      <td>17.000000</td>\n",
       "      <td>4.000000</td>\n",
       "      <td>15.000000</td>\n",
       "    </tr>\n",
       "    <tr>\n",
       "      <th>max</th>\n",
       "      <td>85.000000</td>\n",
       "      <td>2.000000</td>\n",
       "      <td>56.000000</td>\n",
       "      <td>5.000000</td>\n",
       "      <td>26.000000</td>\n",
       "      <td>6.000000</td>\n",
       "      <td>14.000000</td>\n",
       "      <td>9.000000</td>\n",
       "      <td>46.000000</td>\n",
       "      <td>6.000000</td>\n",
       "      <td>51.000000</td>\n",
       "      <td>22.000000</td>\n",
       "      <td>6.000000</td>\n",
       "      <td>16.000000</td>\n",
       "    </tr>\n",
       "  </tbody>\n",
       "</table>\n",
       "</div>"
      ],
      "text/plain": [
       "                age           sex         state       citizen          race  \\\n",
       "count  55253.000000  55253.000000  55253.000000  55253.000000  55253.000000   \n",
       "mean      42.655421      1.471739     28.345375      1.534722      1.429081   \n",
       "std       14.542007      0.499205     16.178664      1.264564      1.304305   \n",
       "min       15.000000      1.000000      1.000000      1.000000      1.000000   \n",
       "25%       31.000000      1.000000     13.000000      1.000000      1.000000   \n",
       "50%       42.000000      1.000000     29.000000      1.000000      1.000000   \n",
       "75%       54.000000      2.000000     42.000000      1.000000      1.000000   \n",
       "max       85.000000      2.000000     56.000000      5.000000     26.000000   \n",
       "\n",
       "            marital  num_in_house     num_child          educ  worker_class  \\\n",
       "count  55253.000000  55253.000000  55253.000000  55253.000000  55253.000000   \n",
       "mean       2.922212      3.074494      0.600999     40.789079      3.811829   \n",
       "std        2.242702      1.552056      1.015603      2.565940      0.745296   \n",
       "min        1.000000      1.000000      0.000000     31.000000      1.000000   \n",
       "25%        1.000000      2.000000      0.000000     39.000000      4.000000   \n",
       "50%        1.000000      3.000000      0.000000     40.000000      4.000000   \n",
       "75%        6.000000      4.000000      1.000000     43.000000      4.000000   \n",
       "max        6.000000     14.000000      9.000000     46.000000      6.000000   \n",
       "\n",
       "           industry    occupation    weekly_hrs    fam_income  \n",
       "count  55253.000000  55253.000000  55253.000000  55253.000000  \n",
       "mean      30.935316     12.193311      3.845076     12.181311  \n",
       "std       14.492841      6.805350      1.321362      3.495008  \n",
       "min        1.000000      1.000000      1.000000      1.000000  \n",
       "25%       22.000000      7.000000      4.000000     10.000000  \n",
       "50%       36.000000     14.000000      4.000000     13.000000  \n",
       "75%       42.000000     17.000000      4.000000     15.000000  \n",
       "max       51.000000     22.000000      6.000000     16.000000  "
      ]
     },
     "execution_count": 25,
     "metadata": {},
     "output_type": "execute_result"
    }
   ],
   "source": [
    "data.describe(include='all')"
   ]
  },
  {
   "cell_type": "markdown",
   "metadata": {},
   "source": [
    "Check dataframe for NaNs"
   ]
  },
  {
   "cell_type": "code",
   "execution_count": 26,
   "metadata": {},
   "outputs": [
    {
     "data": {
      "text/plain": [
       "False"
      ]
     },
     "execution_count": 26,
     "metadata": {},
     "output_type": "execute_result"
    }
   ],
   "source": [
    "data.isnull().values.any()"
   ]
  },
  {
   "cell_type": "markdown",
   "metadata": {},
   "source": [
    "Let's take a look at value counts of some of the variables \n",
    "(Again refer to PDF to see categorical representation of numbers)"
   ]
  },
  {
   "cell_type": "code",
   "execution_count": 27,
   "metadata": {},
   "outputs": [
    {
     "data": {
      "text/plain": [
       "6     4711\n",
       "48    3140\n",
       "36    2248\n",
       "12    2213\n",
       "17    1697\n",
       "42    1601\n",
       "39    1386\n",
       "26    1273\n",
       "25    1213\n",
       "34    1176\n",
       "13    1117\n",
       "37    1098\n",
       "11    1081\n",
       "22    1076\n",
       "30    1061\n",
       "51    1050\n",
       "47    1016\n",
       "53    1015\n",
       "54    1013\n",
       "38     978\n",
       "1      958\n",
       "56     953\n",
       "28     940\n",
       "35     926\n",
       "5      916\n",
       "18     897\n",
       "55     895\n",
       "16     865\n",
       "49     854\n",
       "15     848\n",
       "41     837\n",
       "4      828\n",
       "33     804\n",
       "50     802\n",
       "45     792\n",
       "40     782\n",
       "27     775\n",
       "29     764\n",
       "24     748\n",
       "8      735\n",
       "32     730\n",
       "46     715\n",
       "31     707\n",
       "20     696\n",
       "21     689\n",
       "2      675\n",
       "19     670\n",
       "10     663\n",
       "9      578\n",
       "23     545\n",
       "44     503\n",
       "Name: state, dtype: int64"
      ]
     },
     "execution_count": 27,
     "metadata": {},
     "output_type": "execute_result"
    }
   ],
   "source": [
    "data.state.value_counts()"
   ]
  },
  {
   "cell_type": "code",
   "execution_count": 28,
   "metadata": {},
   "outputs": [
    {
     "data": {
      "text/plain": [
       "1    46483\n",
       "5     4261\n",
       "4     3746\n",
       "3      500\n",
       "2      263\n",
       "Name: citizen, dtype: int64"
      ]
     },
     "execution_count": 28,
     "metadata": {},
     "output_type": "execute_result"
    }
   ],
   "source": [
    "data.citizen.value_counts()"
   ]
  },
  {
   "cell_type": "code",
   "execution_count": 29,
   "metadata": {},
   "outputs": [
    {
     "data": {
      "text/plain": [
       "1     44957\n",
       "2      5471\n",
       "4      3049\n",
       "3       609\n",
       "5       313\n",
       "7       271\n",
       "6       197\n",
       "8       154\n",
       "9        55\n",
       "10       41\n",
       "15       39\n",
       "21       36\n",
       "16       31\n",
       "11       13\n",
       "12        8\n",
       "19        3\n",
       "26        2\n",
       "22        1\n",
       "13        1\n",
       "18        1\n",
       "20        1\n",
       "Name: race, dtype: int64"
      ]
     },
     "execution_count": 29,
     "metadata": {},
     "output_type": "execute_result"
    }
   ],
   "source": [
    "data.race.value_counts()"
   ]
  },
  {
   "cell_type": "code",
   "execution_count": 30,
   "metadata": {},
   "outputs": [
    {
     "data": {
      "text/plain": [
       "1    30157\n",
       "6    16310\n",
       "4     5817\n",
       "3     1103\n",
       "5     1045\n",
       "2      821\n",
       "Name: marital, dtype: int64"
      ]
     },
     "execution_count": 30,
     "metadata": {},
     "output_type": "execute_result"
    }
   ],
   "source": [
    "data.marital.value_counts()"
   ]
  },
  {
   "cell_type": "code",
   "execution_count": 31,
   "metadata": {},
   "outputs": [
    {
     "data": {
      "text/plain": [
       "0    37144\n",
       "1     7872\n",
       "2     6735\n",
       "3     2506\n",
       "4      756\n",
       "5      161\n",
       "6       52\n",
       "7       15\n",
       "8        7\n",
       "9        5\n",
       "Name: num_child, dtype: int64"
      ]
     },
     "execution_count": 31,
     "metadata": {},
     "output_type": "execute_result"
    }
   ],
   "source": [
    "data.num_child.value_counts()"
   ]
  },
  {
   "cell_type": "code",
   "execution_count": 32,
   "metadata": {},
   "outputs": [
    {
     "data": {
      "text/plain": [
       "39    15090\n",
       "43    12575\n",
       "40     9749\n",
       "44     5289\n",
       "42     3436\n",
       "41     2509\n",
       "37     1142\n",
       "46     1037\n",
       "45      956\n",
       "36      858\n",
       "38      644\n",
       "35      618\n",
       "34      530\n",
       "33      518\n",
       "32      185\n",
       "31      117\n",
       "Name: educ, dtype: int64"
      ]
     },
     "execution_count": 32,
     "metadata": {},
     "output_type": "execute_result"
    }
   ],
   "source": [
    "data.educ.value_counts()"
   ]
  },
  {
   "cell_type": "code",
   "execution_count": 33,
   "metadata": {},
   "outputs": [
    {
     "data": {
      "text/plain": [
       "22    6077\n",
       "40    4621\n",
       "36    4051\n",
       "4     3835\n",
       "42    3685\n",
       "46    3190\n",
       "51    2829\n",
       "41    2689\n",
       "23    2297\n",
       "38    2224\n",
       "32    1649\n",
       "21    1341\n",
       "43    1278\n",
       "44    1229\n",
       "1     1052\n",
       "33     974\n",
       "10     887\n",
       "48     878\n",
       "34     874\n",
       "49     778\n",
       "47     776\n",
       "45     726\n",
       "14     694\n",
       "6      578\n",
       "13     514\n",
       "24     488\n",
       "19     466\n",
       "8      448\n",
       "7      434\n",
       "3      378\n",
       "29     327\n",
       "17     325\n",
       "50     242\n",
       "16     218\n",
       "39     211\n",
       "20     205\n",
       "27     186\n",
       "5      180\n",
       "25     175\n",
       "11     171\n",
       "12     154\n",
       "35     149\n",
       "26     141\n",
       "9      138\n",
       "15     112\n",
       "2       98\n",
       "18      84\n",
       "31      76\n",
       "37      63\n",
       "30      35\n",
       "28      23\n",
       "Name: industry, dtype: int64"
      ]
     },
     "execution_count": 33,
     "metadata": {},
     "output_type": "execute_result"
    }
   ],
   "source": [
    "data.industry.value_counts()"
   ]
  },
  {
   "cell_type": "code",
   "execution_count": 34,
   "metadata": {},
   "outputs": [
    {
     "data": {
      "text/plain": [
       "17    6592\n",
       "1     6383\n",
       "16    5545\n",
       "22    3348\n",
       "10    3315\n",
       "21    3063\n",
       "19    3015\n",
       "13    2989\n",
       "8     2977\n",
       "2     2749\n",
       "14    2263\n",
       "15    2088\n",
       "20    1870\n",
       "3     1617\n",
       "11    1284\n",
       "4     1264\n",
       "12    1178\n",
       "9     1020\n",
       "6      933\n",
       "7      737\n",
       "5      535\n",
       "18     488\n",
       "Name: occupation, dtype: int64"
      ]
     },
     "execution_count": 34,
     "metadata": {},
     "output_type": "execute_result"
    }
   ],
   "source": [
    "data.occupation.value_counts()"
   ]
  },
  {
   "cell_type": "code",
   "execution_count": 35,
   "metadata": {},
   "outputs": [
    {
     "data": {
      "text/plain": [
       "4    31614\n",
       "6     7514\n",
       "2     4717\n",
       "1     4683\n",
       "3     3415\n",
       "5     3310\n",
       "Name: weekly_hrs, dtype: int64"
      ]
     },
     "execution_count": 35,
     "metadata": {},
     "output_type": "execute_result"
    }
   ],
   "source": [
    "data.weekly_hrs.value_counts()"
   ]
  },
  {
   "cell_type": "code",
   "execution_count": 36,
   "metadata": {},
   "outputs": [
    {
     "data": {
      "text/plain": [
       "15    9414\n",
       "14    8167\n",
       "16    7906\n",
       "13    6446\n",
       "12    4847\n",
       "11    4345\n",
       "9     2756\n",
       "10    2735\n",
       "8     2140\n",
       "7     1907\n",
       "6     1439\n",
       "5      808\n",
       "4      722\n",
       "1      687\n",
       "3      513\n",
       "2      421\n",
       "Name: fam_income, dtype: int64"
      ]
     },
     "execution_count": 36,
     "metadata": {},
     "output_type": "execute_result"
    }
   ],
   "source": [
    "data.fam_income.value_counts()"
   ]
  },
  {
   "cell_type": "markdown",
   "metadata": {},
   "source": [
    "## Graphing "
   ]
  },
  {
   "cell_type": "code",
   "execution_count": null,
   "metadata": {},
   "outputs": [],
   "source": []
  }
 ],
 "metadata": {
  "kernelspec": {
   "display_name": "Python 3",
   "language": "python",
   "name": "python3"
  },
  "language_info": {
   "codemirror_mode": {
    "name": "ipython",
    "version": 3
   },
   "file_extension": ".py",
   "mimetype": "text/x-python",
   "name": "python",
   "nbconvert_exporter": "python",
   "pygments_lexer": "ipython3",
   "version": "3.7.2"
  }
 },
 "nbformat": 4,
 "nbformat_minor": 2
}
