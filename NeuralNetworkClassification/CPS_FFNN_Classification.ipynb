{
 "cells": [
  {
   "cell_type": "markdown",
   "metadata": {},
   "source": [
    "# Current Population Survey Feed-Forward Neural Network Classification\n"
   ]
  },
  {
   "cell_type": "markdown",
   "metadata": {},
   "source": [
    "Predict whether an individuals family income is greater or less than 50,000 using a basic Feed-Forward Neural Network."
   ]
  },
  {
   "cell_type": "code",
   "execution_count": 1,
   "metadata": {},
   "outputs": [],
   "source": [
    "import pandas as pd  \n",
    "import numpy as np  \n",
    "import torch    \n",
    "\n",
    "from sklearn.metrics import accuracy_score"
   ]
  },
  {
   "cell_type": "code",
   "execution_count": 2,
   "metadata": {},
   "outputs": [
    {
     "data": {
      "text/html": [
       "<div>\n",
       "<style scoped>\n",
       "    .dataframe tbody tr th:only-of-type {\n",
       "        vertical-align: middle;\n",
       "    }\n",
       "\n",
       "    .dataframe tbody tr th {\n",
       "        vertical-align: top;\n",
       "    }\n",
       "\n",
       "    .dataframe thead th {\n",
       "        text-align: right;\n",
       "    }\n",
       "</style>\n",
       "<table border=\"1\" class=\"dataframe\">\n",
       "  <thead>\n",
       "    <tr style=\"text-align: right;\">\n",
       "      <th></th>\n",
       "      <th>age</th>\n",
       "      <th>weekly_hrs</th>\n",
       "      <th>educ</th>\n",
       "      <th>num_in_house</th>\n",
       "      <th>num_child</th>\n",
       "      <th>ismarried</th>\n",
       "      <th>faminc_50</th>\n",
       "    </tr>\n",
       "  </thead>\n",
       "  <tbody>\n",
       "    <tr>\n",
       "      <th>0</th>\n",
       "      <td>28.0</td>\n",
       "      <td>40.0</td>\n",
       "      <td>11.0</td>\n",
       "      <td>6.0</td>\n",
       "      <td>4.0</td>\n",
       "      <td>0.0</td>\n",
       "      <td>0</td>\n",
       "    </tr>\n",
       "    <tr>\n",
       "      <th>1</th>\n",
       "      <td>44.0</td>\n",
       "      <td>50.0</td>\n",
       "      <td>13.0</td>\n",
       "      <td>5.0</td>\n",
       "      <td>2.0</td>\n",
       "      <td>1.0</td>\n",
       "      <td>1</td>\n",
       "    </tr>\n",
       "    <tr>\n",
       "      <th>2</th>\n",
       "      <td>23.0</td>\n",
       "      <td>20.0</td>\n",
       "      <td>9.0</td>\n",
       "      <td>3.0</td>\n",
       "      <td>0.0</td>\n",
       "      <td>0.0</td>\n",
       "      <td>1</td>\n",
       "    </tr>\n",
       "    <tr>\n",
       "      <th>3</th>\n",
       "      <td>20.0</td>\n",
       "      <td>20.0</td>\n",
       "      <td>7.0</td>\n",
       "      <td>5.0</td>\n",
       "      <td>0.0</td>\n",
       "      <td>0.0</td>\n",
       "      <td>0</td>\n",
       "    </tr>\n",
       "    <tr>\n",
       "      <th>4</th>\n",
       "      <td>20.0</td>\n",
       "      <td>20.0</td>\n",
       "      <td>9.0</td>\n",
       "      <td>4.0</td>\n",
       "      <td>0.0</td>\n",
       "      <td>0.0</td>\n",
       "      <td>1</td>\n",
       "    </tr>\n",
       "  </tbody>\n",
       "</table>\n",
       "</div>"
      ],
      "text/plain": [
       "    age  weekly_hrs  educ  num_in_house  num_child  ismarried  faminc_50\n",
       "0  28.0        40.0  11.0           6.0        4.0        0.0          0\n",
       "1  44.0        50.0  13.0           5.0        2.0        1.0          1\n",
       "2  23.0        20.0   9.0           3.0        0.0        0.0          1\n",
       "3  20.0        20.0   7.0           5.0        0.0        0.0          0\n",
       "4  20.0        20.0   9.0           4.0        0.0        0.0          1"
      ]
     },
     "execution_count": 2,
     "metadata": {},
     "output_type": "execute_result"
    }
   ],
   "source": [
    "data = pd.read_csv(\"../datasets/CPS2016_UPDATE.csv\",\n",
    "                  usecols=['age', 'weekly_hrs', 'educ','num_in_house', \n",
    "                           'num_child', 'ismarried', 'faminc_50'])\n",
    "\n",
    "data = data.astype(np.float64)\n",
    "data.faminc_50 = data.faminc_50.astype(np.int64)\n",
    "data.head()"
   ]
  },
  {
   "cell_type": "markdown",
   "metadata": {},
   "source": [
    "## Deciding on Predictor and Response variables\n",
    "\n",
    "We are only going to use the following numerical variables.\n",
    "I have tested this network using the categorical columns, however they are noise and reduce the score."
   ]
  },
  {
   "cell_type": "code",
   "execution_count": 3,
   "metadata": {},
   "outputs": [],
   "source": [
    "predictors = ['age', 'educ', 'weekly_hrs', 'ismarried',\n",
    "              'num_child', 'num_in_house']\n",
    "\n",
    "class_column = 'faminc_50'"
   ]
  },
  {
   "cell_type": "code",
   "execution_count": 4,
   "metadata": {
    "scrolled": true
   },
   "outputs": [
    {
     "name": "stdout",
     "output_type": "stream",
     "text": [
      "6 input variables:  ['age', 'educ', 'weekly_hrs', 'ismarried', 'num_child', 'num_in_house']\n",
      "[0 1]\n",
      "2\n"
     ]
    }
   ],
   "source": [
    "n_predictors = len(predictors)\n",
    "print(f\"{n_predictors} input variables:  {predictors}\")\n",
    "categories = np.sort(data[class_column].unique())\n",
    "n_categories = len(categories)\n",
    "\n",
    "print(categories)\n",
    "print(n_categories)"
   ]
  },
  {
   "cell_type": "code",
   "execution_count": 5,
   "metadata": {},
   "outputs": [
    {
     "name": "stdout",
     "output_type": "stream",
     "text": [
      "(55253, 6)\n",
      "(55253,)\n"
     ]
    }
   ],
   "source": [
    "X = data[predictors]\n",
    "Y = data[class_column]\n",
    "\n",
    "print(X.shape)\n",
    "print(Y.shape)"
   ]
  },
  {
   "cell_type": "markdown",
   "metadata": {},
   "source": [
    "## Train/Test Split\n",
    "\n",
    "We will randomly select 80% of the datapoints to be training, and use the complementary 20% for testing."
   ]
  },
  {
   "cell_type": "code",
   "execution_count": 6,
   "metadata": {},
   "outputs": [
    {
     "name": "stdout",
     "output_type": "stream",
     "text": [
      "55253 total = 44202 training + 11051 testing\n"
     ]
    }
   ],
   "source": [
    "N = len(data)\n",
    "train_bool = np.zeros(shape=(N,), dtype='bool')\n",
    "train_bool[np.random.choice(N, int(0.80*N), replace=False)] = True\n",
    "\n",
    "X_train = X.iloc[ train_bool]\n",
    "X_test  = X.iloc[~train_bool]\n",
    "Y_train = Y.iloc[ train_bool]\n",
    "Y_test  = Y.iloc[~train_bool]\n",
    "print(f\"{N} total = {len(X_train)} training + {len(X_test)} testing\")"
   ]
  },
  {
   "cell_type": "markdown",
   "metadata": {},
   "source": [
    "## Wrap data in  PyTorch tensors"
   ]
  },
  {
   "cell_type": "code",
   "execution_count": 7,
   "metadata": {},
   "outputs": [],
   "source": [
    "X_train = torch.tensor(X_train.values.astype(np.float32))\n",
    "Y_train = torch.tensor(Y_train.values)\n",
    "X_test = torch.tensor(X_test.values.astype(np.float32))\n",
    "Y_test = torch.tensor(Y_test.values)"
   ]
  },
  {
   "cell_type": "code",
   "execution_count": 8,
   "metadata": {},
   "outputs": [],
   "source": [
    "from torch.utils.data import TensorDataset, DataLoader\n",
    "\n",
    "train_batch_size = 20\n",
    "test_batch_size = 50\n",
    "\n",
    "train_ds = TensorDataset(X_train, Y_train)\n",
    "train_dl = DataLoader(dataset=train_ds, batch_size=train_batch_size, shuffle=True)\n",
    "\n",
    "test_ds = TensorDataset(X_test, Y_test)\n",
    "test_dl =  DataLoader(dataset=test_ds, batch_size=test_batch_size)  # No need to shuffle the testing data"
   ]
  },
  {
   "cell_type": "markdown",
   "metadata": {},
   "source": [
    "## Setting up a Feed-Forward Neural Network"
   ]
  },
  {
   "cell_type": "code",
   "execution_count": 9,
   "metadata": {},
   "outputs": [],
   "source": [
    "class FFNN(torch.nn.Module):\n",
    "    r\"\"\"Abe's really simple Feed-Forward Neural Network. \"\"\"\n",
    "    def __init__(self, input_size, hidden_size, output_size):\n",
    "        super(FFNN, self).__init__()\n",
    "        self.input_to_hidden =  torch.nn.Linear(input_size, hidden_size)\n",
    "        self.hidden_to_output = torch.nn.Linear(hidden_size, output_size)\n",
    "        self.softmax = torch.nn.Softmax(dim=1)\n",
    "        self.sig = torch.nn.Sigmoid()\n",
    "\n",
    "    def forward(self, input):\n",
    "        hidden = self.sig(self.input_to_hidden(input))\n",
    "        output = self.hidden_to_output(hidden)\n",
    "        output = self.softmax(output)\n",
    "        return output"
   ]
  },
  {
   "cell_type": "code",
   "execution_count": 10,
   "metadata": {},
   "outputs": [],
   "source": [
    "n_hidden = 30 # Let's use 30 variables in the hidden layer\n",
    "ffnn = FFNN(n_predictors, n_hidden, n_categories)"
   ]
  },
  {
   "cell_type": "markdown",
   "metadata": {},
   "source": [
    "## Preparing for Gradient Descent and Back-Propagation"
   ]
  },
  {
   "cell_type": "code",
   "execution_count": 11,
   "metadata": {},
   "outputs": [],
   "source": [
    "optimizer = torch.optim.SGD(ffnn.parameters(), lr=0.1, momentum=1.0)\n",
    "loss_fn = torch.nn.NLLLoss() "
   ]
  },
  {
   "cell_type": "markdown",
   "metadata": {},
   "source": [
    "## Testing"
   ]
  },
  {
   "cell_type": "code",
   "execution_count": 12,
   "metadata": {},
   "outputs": [],
   "source": [
    "def test_score(model, loss_func, test_dataloader):\n",
    "    r\"\"\" A simple test-batch scoring method. \"\"\"\n",
    "    \n",
    "    scores = []\n",
    "    with torch.no_grad():  # compute no gradients\n",
    "        model.eval()  # evaluation mode -- don't do any internal learning.\n",
    "        for (x_batch, y_batch) in test_dataloader:\n",
    "            output_batch = model(x_batch)\n",
    "            loss = loss_func(output_batch, y_batch)\n",
    "            scores.append(loss.item())\n",
    "    return np.array(scores).mean()  # average score across batches"
   ]
  },
  {
   "cell_type": "markdown",
   "metadata": {},
   "source": [
    "## Initial (random) model\n",
    "The model has not been trained yet, so it just has its original random parameters."
   ]
  },
  {
   "cell_type": "code",
   "execution_count": 13,
   "metadata": {},
   "outputs": [
    {
     "data": {
      "text/plain": [
       "0.4955596420410517"
      ]
     },
     "execution_count": 13,
     "metadata": {},
     "output_type": "execute_result"
    }
   ],
   "source": [
    "- test_score(ffnn, loss_fn, test_dl)"
   ]
  },
  {
   "cell_type": "markdown",
   "metadata": {},
   "source": [
    "## Train once\n",
    "\n",
    "We now loop over the training set batches once, to improve the model"
   ]
  },
  {
   "cell_type": "code",
   "execution_count": 14,
   "metadata": {
    "scrolled": false
   },
   "outputs": [],
   "source": [
    "ffnn.train()  # put the model in training mode (not needed here, but good to remember to include)\n",
    "for i, (x_batch, y_batch) in enumerate(train_dl):\n",
    "    #print(f\"batch {i} of size {x_batch.size()[0]}\", end=\" \")\n",
    "    output_batch = ffnn(x_batch)\n",
    "    loss = loss_fn(output_batch, y_batch)\n",
    "    #print(f\"in-batch loss {-loss}\")\n",
    "    \n",
    "    optimizer.zero_grad()  # clear previous gradients\n",
    "    loss.backward()        # compute gradients of all variables wrt loss\n",
    "    optimizer.step()       # perform updates using calculated gradients"
   ]
  },
  {
   "cell_type": "markdown",
   "metadata": {},
   "source": [
    "## After one \"epoch\" of training, the score has improved."
   ]
  },
  {
   "cell_type": "code",
   "execution_count": 15,
   "metadata": {},
   "outputs": [
    {
     "data": {
      "text/plain": [
       "0.6663963953116993"
      ]
     },
     "execution_count": 15,
     "metadata": {},
     "output_type": "execute_result"
    }
   ],
   "source": [
    "- test_score(ffnn, loss_fn, test_dl)"
   ]
  },
  {
   "cell_type": "markdown",
   "metadata": {},
   "source": [
    "## Let's train a lot more, and also print out the testing score as we go."
   ]
  },
  {
   "cell_type": "code",
   "execution_count": 16,
   "metadata": {},
   "outputs": [
    {
     "name": "stdout",
     "output_type": "stream",
     "text": [
      "0  test score 0.6663963953116993\n",
      "1  test score 0.6663963953116993\n",
      "2  test score 0.6663963953116993\n",
      "3  test score 0.6663963953116993\n",
      "4  test score 0.6663963953116993\n",
      "5  test score 0.6663963953116993\n",
      "6  test score 0.6663963953116993\n",
      "7  test score 0.6663963953116993\n",
      "8  test score 0.6663963953116993\n",
      "9  test score 0.6663963953116993\n"
     ]
    }
   ],
   "source": [
    "num_epochs = 10\n",
    "\n",
    "for epoch in range(num_epochs):\n",
    "    ffnn.train()  # put the model in training mode (not needed here, but good to remember to include)\n",
    "    print(f\"{epoch}\", end=\" \")\n",
    "    for i, (x_batch, y_batch) in enumerate(train_dl):\n",
    "        #print(\".\", end=\"\")\n",
    "        output_batch = ffnn(x_batch)\n",
    "        loss = loss_fn(output_batch, y_batch)\n",
    "\n",
    "        optimizer.zero_grad()  # clear previous gradients\n",
    "        loss.backward()        # compute gradients of all variables wrt loss\n",
    "        optimizer.step()       # perform updates using calculated gradients\n",
    "        \n",
    "    testloss = - test_score(ffnn, loss_fn, test_dl)\n",
    "    print(f\" test score {testloss}\")"
   ]
  },
  {
   "cell_type": "code",
   "execution_count": 17,
   "metadata": {},
   "outputs": [
    {
     "name": "stdout",
     "output_type": "stream",
     "text": [
      "prediction accuracy 0.6649172020631617\n"
     ]
    }
   ],
   "source": [
    "predict_out = ffnn(X_test)\n",
    "_, predict_y = torch.max(predict_out, 1)\n",
    "\n",
    "print('prediction accuracy', accuracy_score(Y_test.data, predict_y.data))"
   ]
  },
  {
   "cell_type": "markdown",
   "metadata": {},
   "source": [
    "Using a FFNN for classifying family income groups is not as effective as other methods such as Random Forest Decision Trees and SVM. When predicting if a families income is greater than 50,000, the maximum score achieved is .67, which is lower than SVM and Random Forest classification which the scores are greater than .7"
   ]
  },
  {
   "cell_type": "markdown",
   "metadata": {},
   "source": [
    "When using the FFNN for predicting if an individual is married, we get scores around .56 which is significantly lower than using other methods."
   ]
  }
 ],
 "metadata": {
  "kernelspec": {
   "display_name": "Python 3",
   "language": "python",
   "name": "python3"
  },
  "language_info": {
   "codemirror_mode": {
    "name": "ipython",
    "version": 3
   },
   "file_extension": ".py",
   "mimetype": "text/x-python",
   "name": "python",
   "nbconvert_exporter": "python",
   "pygments_lexer": "ipython3",
   "version": "3.7.2"
  }
 },
 "nbformat": 4,
 "nbformat_minor": 2
}
